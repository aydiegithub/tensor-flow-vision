{
 "cells": [
  {
   "metadata": {},
   "cell_type": "markdown",
   "source": "# Opject Detenction",
   "id": "be3ed6f33fcc7447"
  },
  {
   "metadata": {
    "ExecuteTime": {
     "end_time": "2025-06-30T11:11:20.503974Z",
     "start_time": "2025-06-30T11:11:16.837298Z"
    }
   },
   "cell_type": "code",
   "source": [
    "import os\n",
    "import pathlib\n",
    "\n",
    "import matplotlib\n",
    "import matplotlib.pyplot as plt\n",
    "\n",
    "import io\n",
    "import scipy.misc\n",
    "import pandas as pd\n",
    "import numpy as np\n",
    "from six import BytesIO\n",
    "from PIL import Image, ImageDraw, ImageFont\n",
    "from six.moves.urllib.request import urlopen\n",
    "\n",
    "import tensorflow as tf\n",
    "import tensorflow_hub as hub\n",
    "\n",
    "tf.get_logger().setLevel('ERROR')"
   ],
   "id": "85e6f4dce0b252db",
   "outputs": [
    {
     "name": "stderr",
     "output_type": "stream",
     "text": [
      "/var/folders/xt/dsl_68w51jzftxq18_hpfkhm0000gn/T/ipykernel_61180/3420646353.py:8: DeprecationWarning: scipy.misc is deprecated and will be removed in 2.0.0\n",
      "  import scipy.misc\n"
     ]
    }
   ],
   "execution_count": 1
  },
  {
   "metadata": {},
   "cell_type": "markdown",
   "source": "## Utilities",
   "id": "29d08e8d17017895"
  },
  {
   "metadata": {
    "ExecuteTime": {
     "end_time": "2025-06-30T11:11:20.584670Z",
     "start_time": "2025-06-30T11:11:20.504903Z"
    }
   },
   "cell_type": "code",
   "source": [
    "models = pd.read_parquet('model_names.parquet', engine=\"pyarrow\")\n",
    "models = dict(zip(models.ModelName, models.URL))"
   ],
   "id": "8faa1b1b7d6ade5f",
   "outputs": [],
   "execution_count": 2
  },
  {
   "metadata": {
    "ExecuteTime": {
     "end_time": "2025-06-30T11:11:20.587790Z",
     "start_time": "2025-06-30T11:11:20.585329Z"
    }
   },
   "cell_type": "code",
   "source": [
    "IMAGES_FOR_TEST = {\n",
    "  'Beach' : 'models/research/object_detection/test_images/image2.jpg',\n",
    "  'Dogs' : 'models/research/object_detection/test_images/image1.jpg',\n",
    "  # By Heiko Gorski, Source: https://commons.wikimedia.org/wiki/File:Naxos_Taverna.jpg\n",
    "  'Naxos Taverna' : 'https://upload.wikimedia.org/wikipedia/commons/6/60/Naxos_Taverna.jpg',\n",
    "  # Source: https://commons.wikimedia.org/wiki/File:The_Coleoptera_of_the_British_islands_(Plate_125)_(8592917784).jpg\n",
    "  'Beatles' : 'https://upload.wikimedia.org/wikipedia/commons/1/1b/The_Coleoptera_of_the_British_islands_%28Plate_125%29_%288592917784%29.jpg',\n",
    "  # By Américo Toledano, Source: https://commons.wikimedia.org/wiki/File:Biblioteca_Maim%C3%B3nides,_Campus_Universitario_de_Rabanales_007.jpg\n",
    "  'Phones' : 'https://upload.wikimedia.org/wikipedia/commons/thumb/0/0d/Biblioteca_Maim%C3%B3nides%2C_Campus_Universitario_de_Rabanales_007.jpg/1024px-Biblioteca_Maim%C3%B3nides%2C_Campus_Universitario_de_Rabanales_007.jpg',\n",
    "  # Source: https://commons.wikimedia.org/wiki/File:The_smaller_British_birds_(8053836633).jpg\n",
    "  'Birds' : 'https://upload.wikimedia.org/wikipedia/commons/0/09/The_smaller_British_birds_%288053836633%29.jpg',\n",
    "}"
   ],
   "id": "4f114da2b8328e6f",
   "outputs": [],
   "execution_count": 3
  },
  {
   "metadata": {
    "ExecuteTime": {
     "end_time": "2025-06-30T11:11:20.592673Z",
     "start_time": "2025-06-30T11:11:20.589426Z"
    }
   },
   "cell_type": "code",
   "source": [
    "def load_images_into_numpy_array(path):\n",
    "    image = None\n",
    "    if(path.startswith('http')):\n",
    "        response = urlopen(path)\n",
    "        image_data = response.read()\n",
    "        image_data = BytesIO(image_data)\n",
    "        image = Image.open(image_data)\n",
    "    else:\n",
    "        image_data = tf.io.gfile.GFile(path, 'rb').read()\n",
    "        image = Image.open(BytesIO(image_data))\n",
    "\n",
    "    (im_width, im_height) = image.size\n",
    "    return (np.array(image.getdata())\n",
    "            .reshape(1, im_height, im_width, 3)).astype(np.uint8)\n",
    "    \n",
    "    COCO17_HUMAN_POSE_KEYPOINTS = [\n",
    "                                 (0, 1),\n",
    "                                 (0, 2),\n",
    "                                 (1, 3),\n",
    "                                 (2, 4),\n",
    "                                 (0, 5),\n",
    "                                 (0, 6),\n",
    "                                 (5, 7),\n",
    "                                 (7, 9),\n",
    "                                 (6, 8),\n",
    "                                 (8, 10),\n",
    "                                 (5, 6),\n",
    "                                 (5, 11),\n",
    "                                 (6, 12),\n",
    "                                 (11, 12),\n",
    "                                 (11, 13),\n",
    "                                 (13, 15),\n",
    "                                 (12, 14),\n",
    "                                 (14, 16)]\n"
   ],
   "id": "69ba75d1011ffd5a",
   "outputs": [],
   "execution_count": 4
  },
  {
   "metadata": {
    "ExecuteTime": {
     "end_time": "2025-06-30T11:20:44.367578Z",
     "start_time": "2025-06-30T11:11:20.593275Z"
    }
   },
   "cell_type": "code",
   "source": "! git clone --depth 1 https://github.com/tensorflow/models",
   "id": "df63774fa291f5d3",
   "outputs": [
    {
     "name": "stdout",
     "output_type": "stream",
     "text": [
      "Cloning into 'models'...\r\n",
      "remote: Enumerating objects: 4352, done.\u001B[K\r\n",
      "remote: Counting objects: 100% (4352/4352), done.\u001B[K06/4352)\u001B[K\r\n",
      "remote: Compressing objects: 100% (3161/3161), done.\u001B[K\r\n",
      "error: RPC failed; curl 92 HTTP/2 stream 5 was not closed cleanly: CANCEL (err 8)12% (543/4352), 1.04 MiB | 14.00 KiB/sReceiving objects:  13% (566/4352), 1.07 MiB | 15.00 KiB/sReceiving objects:  13% (574/4352), 1.09 MiB | 17.00 KiB/sReceiving objects:  13% (591/4352), 1.14 MiB | 20.00 KiB/sReceiving objects:  14% (610/4352), 1.18 MiB | 21.00 KiB/sReceiving objects:  14% (636/4352), 1.22 MiB | 23.00 KiB/sReceiving objects:  15% (666/4352), 1.28 MiB | 22.00 KiB/sReceiving objects:  16% (703/4352), 1.31 MiB | 22.00 KiB/sReceiving objects:  17% (740/4352), 1.34 MiB | 22.00 KiB/sReceiving objects:  17% (752/4352), 1.36 MiB | 20.00 KiB/sReceiving objects:  17% (758/4352), 1.37 MiB | 15.00 KiB/sReceiving objects:  18% (784/4352), 1.39 MiB | 14.00 KiB/sReceiving objects:  18% (804/4352), 1.43 MiB | 13.00 KiB/sReceiving objects:  18% (826/4352), 1.46 MiB | 13.00 KiB/sReceiving objects:  19% (837/4352), 1.48 MiB | 14.00 KiB/sReceiving objects:  20% (871/4352), 1.50 MiB | 18.00 KiB/sReceiving objects:  20% (896/4352), 1.54 MiB | 19.00 KiB/sReceiving objects:  21% (934/4352), 1.58 MiB | 22.00 KiB/sReceiving objects:  21% (955/4352), 1.61 MiB | 24.00 KiB/sReceiving objects:  22% (963/4352), 1.68 MiB | 27.00 KiB/sReceiving objects:  22% (965/4352), 1.71 MiB | 24.00 KiB/sReceiving objects:  23% (1019/4352), 1.75 MiB | 28.00 KiB/sReceiving objects:  24% (1058/4352), 1.79 MiB | 26.00 KiB/sReceiving objects:  25% (1095/4352), 1.81 MiB | 26.00 KiB/sReceiving objects:  25% (1104/4352), 1.89 MiB | 29.00 KiB/sReceiving objects:  25% (1104/4352), 1.98 MiB | 37.00 KiB/sReceiving objects:  25% (1104/4352), 2.04 MiB | 37.00 KiB/sReceiving objects:  25% (1105/4352), 2.10 MiB | 25.00 KiB/sReceiving objects:  25% (1105/4352), 2.17 MiB | 25.00 KiB/sReceiving objects:  25% (1105/4352), 2.22 MiB | 28.00 KiB/sReceiving objects:  25% (1105/4352), 2.29 MiB | 25.00 KiB/sReceiving objects:  25% (1105/4352), 2.34 MiB | 24.00 KiB/sReceiving objects:  25% (1105/4352), 2.39 MiB | 23.00 KiB/sReceiving objects:  25% (1105/4352), 2.43 MiB | 22.00 KiB/sReceiving objects:  25% (1105/4352), 2.48 MiB | 23.00 KiB/sReceiving objects:  25% (1105/4352), 2.51 MiB | 23.00 KiB/sReceiving objects:  25% (1105/4352), 2.56 MiB | 21.00 KiB/sReceiving objects:  25% (1105/4352), 2.65 MiB | 28.00 KiB/sReceiving objects:  25% (1106/4352), 2.74 MiB | 36.00 KiB/sReceiving objects:  25% (1106/4352), 2.78 MiB | 36.00 KiB/sReceiving objects:  25% (1106/4352), 2.82 MiB | 31.00 KiB/sReceiving objects:  25% (1106/4352), 2.92 MiB | 33.00 KiB/sReceiving objects:  25% (1106/4352), 2.96 MiB | 31.00 KiB/sReceiving objects:  25% (1106/4352), 3.00 MiB | 31.00 KiB/sReceiving objects:  25% (1106/4352), 3.05 MiB | 24.00 KiB/sReceiving objects:  25% (1106/4352), 3.11 MiB | 22.00 KiB/sReceiving objects:  25% (1106/4352), 3.17 MiB | 27.00 KiB/sReceiving objects:  25% (1107/4352), 3.21 MiB | 27.00 KiB/sReceiving objects:  25% (1107/4352), 3.32 MiB | 35.00 KiB/sReceiving objects:  25% (1107/4352), 3.37 MiB | 36.00 KiB/sReceiving objects:  25% (1107/4352), 3.44 MiB | 37.00 KiB/sReceiving objects:  25% (1107/4352), 3.47 MiB | 25.00 KiB/sReceiving objects:  25% (1108/4352), 3.50 MiB | 23.00 KiB/sReceiving objects:  25% (1108/4352), 3.54 MiB | 20.00 KiB/sReceiving objects:  25% (1108/4352), 3.60 MiB | 19.00 KiB/sReceiving objects:  25% (1108/4352), 3.64 MiB | 17.00 KiB/sReceiving objects:  25% (1108/4352), 3.67 MiB | 14.00 KiB/sReceiving objects:  25% (1108/4352), 3.74 MiB | 16.00 KiB/sReceiving objects:  25% (1108/4352), 3.79 MiB | 19.00 KiB/sReceiving objects:  25% (1108/4352), 3.81 MiB | 20.00 KiB/sReceiving objects:  25% (1108/4352), 3.82 MiB | 21.00 KiB/sReceiving objects:  25% (1108/4352), 3.89 MiB | 14.00 KiB/sReceiving objects:  25% (1108/4352), 3.91 MiB | 13.00 KiB/sReceiving objects:  25% (1108/4352), 3.95 MiB | 16.00 KiB/sReceiving objects:  25% (1108/4352), 4.01 MiB | 20.00 KiB/sReceiving objects:  25% (1108/4352), 4.04 MiB | 19.00 KiB/sReceiving objects:  25% (1108/4352), 4.08 MiB | 18.00 KiB/sReceiving objects:  25% (1108/4352), 4.11 MiB | 16.00 KiB/sReceiving objects:  25% (1108/4352), 4.16 MiB | 18.00 KiB/sReceiving objects:  25% (1108/4352), 4.19 MiB | 19.00 KiB/sReceiving objects:  25% (1108/4352), 4.25 MiB | 23.00 KiB/sReceiving objects:  25% (1108/4352), 4.31 MiB | 26.00 KiB/sReceiving objects:  25% (1108/4352), 4.36 MiB | 23.00 KiB/sReceiving objects:  25% (1108/4352), 4.39 MiB | 16.00 KiB/sReceiving objects:  25% (1108/4352), 4.42 MiB | 13.00 KiB/sReceiving objects:  25% (1108/4352), 4.46 MiB | 16.00 KiB/sReceiving objects:  25% (1108/4352), 4.50 MiB | 19.00 KiB/sReceiving objects:  25% (1108/4352), 4.54 MiB | 21.00 KiB/sReceiving objects:  25% (1108/4352), 4.62 MiB | 28.00 KiB/sReceiving objects:  25% (1108/4352), 4.68 MiB | 34.00 KiB/sReceiving objects:  25% (1108/4352), 4.71 MiB | 27.00 KiB/sReceiving objects:  25% (1108/4352), 4.79 MiB | 30.00 KiB/sReceiving objects:  25% (1108/4352), 4.86 MiB | 29.00 KiB/sReceiving objects:  25% (1108/4352), 4.93 MiB | 35.00 KiB/sReceiving objects:  25% (1108/4352), 4.97 MiB | 28.00 KiB/sReceiving objects:  25% (1108/4352), 5.01 MiB | 25.00 KiB/sReceiving objects:  25% (1108/4352), 5.05 MiB | 18.00 KiB/sReceiving objects:  25% (1108/4352), 5.13 MiB | 21.00 KiB/sReceiving objects:  25% (1108/4352), 5.16 MiB | 21.00 KiB/sReceiving objects:  25% (1108/4352), 5.21 MiB | 23.00 KiB/sReceiving objects:  25% (1108/4352), 5.26 MiB | 22.00 KiB/sReceiving objects:  25% (1108/4352), 5.35 MiB | 25.00 KiB/sReceiving objects:  25% (1108/4352), 5.38 MiB | 29.00 KiB/sReceiving objects:  25% (1108/4352), 5.43 MiB | 27.00 KiB/sReceiving objects:  25% (1108/4352), 5.46 MiB | 17.00 KiB/sReceiving objects:  25% (1108/4352), 5.51 MiB | 19.00 KiB/sReceiving objects:  25% (1108/4352), 5.57 MiB | 21.00 KiB/sReceiving objects:  25% (1108/4352), 5.64 MiB | 30.00 KiB/sReceiving objects:  25% (1108/4352), 5.69 MiB | 27.00 KiB/sReceiving objects:  25% (1108/4352), 5.75 MiB | 30.00 KiB/sReceiving objects:  25% (1108/4352), 5.82 MiB | 27.00 KiB/sReceiving objects:  26% (1132/4352), 5.84 MiB | 28.00 KiB/sReceiving objects:  27% (1178/4352), 5.89 MiB | 24.00 KiB/sReceiving objects:  27% (1178/4352), 5.93 MiB | 27.00 KiB/sReceiving objects:  27% (1178/4352), 5.96 MiB | 18.00 KiB/sReceiving objects:  27% (1178/4352), 6.02 MiB | 18.00 KiB/sReceiving objects:  27% (1178/4352), 6.07 MiB | 20.00 KiB/sReceiving objects:  27% (1178/4352), 6.11 MiB | 24.00 KiB/sReceiving objects:  27% (1179/4352), 6.14 MiB | 18.00 KiB/sReceiving objects:  27% (1179/4352), 6.18 MiB | 17.00 KiB/sReceiving objects:  27% (1179/4352), 6.22 MiB | 17.00 KiB/sReceiving objects:  27% (1179/4352), 6.28 MiB | 18.00 KiB/sReceiving objects:  27% (1179/4352), 6.33 MiB | 22.00 KiB/sReceiving objects:  27% (1179/4352), 6.39 MiB | 23.00 KiB/sReceiving objects:  27% (1180/4352), 6.44 MiB | 27.00 KiB/sReceiving objects:  27% (1180/4352), 6.52 MiB | 31.00 KiB/sReceiving objects:  27% (1180/4352), 6.58 MiB | 32.00 KiB/sReceiving objects:  27% (1183/4352), 6.62 MiB | 28.00 KiB/sReceiving objects:  27% (1199/4352), 6.65 MiB | 23.00 KiB/sReceiving objects:  28% (1219/4352), 6.68 MiB | 24.00 KiB/sReceiving objects:  29% (1263/4352), 6.71 MiB | 23.00 KiB/sReceiving objects:  29% (1282/4352), 6.75 MiB | 22.00 KiB/sReceiving objects:  29% (1282/4352), 6.78 MiB | 17.00 KiB/sReceiving objects:  29% (1282/4352), 6.84 MiB | 21.00 KiB/sReceiving objects:  29% (1282/4352), 6.91 MiB | 23.00 KiB/sReceiving objects:  29% (1282/4352), 6.96 MiB | 28.00 KiB/sReceiving objects:  29% (1282/4352), 6.98 MiB | 24.00 KiB/sReceiving objects:  29% (1282/4352), 7.01 MiB | 19.00 KiB/sReceiving objects:  29% (1282/4352), 7.10 MiB | 20.00 KiB/sReceiving objects:  29% (1282/4352), 7.16 MiB | 27.00 KiB/sReceiving objects:  29% (1282/4352), 7.21 MiB | 35.00 KiB/sReceiving objects:  29% (1282/4352), 7.26 MiB | 27.00 KiB/sReceiving objects:  29% (1282/4352), 7.32 MiB | 23.00 KiB/sReceiving objects:  29% (1282/4352), 7.36 MiB | 24.00 KiB/sReceiving objects:  29% (1282/4352), 7.42 MiB | 25.00 KiB/sReceiving objects:  29% (1282/4352), 7.46 MiB | 26.00 KiB/sReceiving objects:  30% (1306/4352), 7.50 MiB | 28.00 KiB/sReceiving objects:  30% (1330/4352), 7.54 MiB | 29.00 KiB/sReceiving objects:  31% (1350/4352), 7.57 MiB | 27.00 KiB/sReceiving objects:  32% (1393/4352), 7.59 MiB | 28.00 KiB/sReceiving objects:  32% (1430/4352), 7.66 MiB | 32.00 KiB/sReceiving objects:  33% (1451/4352), 7.70 MiB | 30.00 KiB/sReceiving objects:  34% (1516/4352), 7.75 MiB | 33.00 KiB/sReceiving objects:  35% (1564/4352), 7.79 MiB | 27.00 KiB/sReceiving objects:  36% (1567/4352), 7.81 MiB | 26.00 KiB/sReceiving objects:  37% (1611/4352), 7.85 MiB | 26.00 KiB/sReceiving objects:  38% (1654/4352), 7.89 MiB | 26.00 KiB/sReceiving objects:  38% (1693/4352), 7.92 MiB | 27.00 KiB/sReceiving objects:  39% (1710/4352), 7.94 MiB | 27.00 KiB/sReceiving objects:  39% (1728/4352), 8.01 MiB | 31.00 KiB/sReceiving objects:  39% (1728/4352), 8.10 MiB | 29.00 KiB/sReceiving objects:  39% (1728/4352), 8.15 MiB | 26.00 KiB/sReceiving objects:  39% (1728/4352), 8.21 MiB | 27.00 KiB/sReceiving objects:  39% (1728/4352), 8.26 MiB | 25.00 KiB/sReceiving objects:  39% (1728/4352), 8.36 MiB | 34.00 KiB/sReceiving objects:  39% (1728/4352), 8.38 MiB | 29.00 KiB/sReceiving objects:  39% (1728/4352), 8.48 MiB | 34.00 KiB/sReceiving objects:  40% (1741/4352), 8.50 MiB | 32.00 KiB/sReceiving objects:  41% (1796/4352), 8.58 MiB | 34.00 KiB/sReceiving objects:  41% (1796/4352), 8.61 MiB | 25.00 KiB/sReceiving objects:  41% (1796/4352), 8.68 MiB | 22.00 KiB/sReceiving objects:  41% (1796/4352), 8.70 MiB | 20.00 KiB/sReceiving objects:  41% (1796/4352), 8.75 MiB | 23.00 KiB/sReceiving objects:  41% (1796/4352), 8.76 MiB | 17.00 KiB/sReceiving objects:  41% (1807/4352), 8.81 MiB | 18.00 KiB/sReceiving objects:  42% (1867/4352), 8.85 MiB | 19.00 KiB/sReceiving objects:  43% (1900/4352), 8.89 MiB | 22.00 KiB/sReceiving objects:  44% (1925/4352), 8.92 MiB | 28.00 KiB/sReceiving objects:  44% (1934/4352), 9.00 MiB | 31.00 KiB/sReceiving objects:  44% (1934/4352), 9.04 MiB | 27.00 KiB/sReceiving objects:  44% (1934/4352), 9.07 MiB | 25.00 KiB/sReceiving objects:  44% (1934/4352), 9.12 MiB | 21.00 KiB/sReceiving objects:  44% (1934/4352), 9.15 MiB | 19.00 KiB/sReceiving objects:  44% (1934/4352), 9.21 MiB | 19.00 KiB/sReceiving objects:  44% (1934/4352), 9.29 MiB | 27.00 KiB/sReceiving objects:  44% (1934/4352), 9.35 MiB | 33.00 KiB/sReceiving objects:  44% (1934/4352), 9.42 MiB | 33.00 KiB/sReceiving objects:  44% (1943/4352), 9.51 MiB | 32.00 KiB/sReceiving objects:  44% (1943/4352), 9.57 MiB | 32.00 KiB/sReceiving objects:  44% (1943/4352), 9.67 MiB | 40.00 KiB/sReceiving objects:  44% (1943/4352), 9.75 MiB | 41.00 KiB/sReceiving objects:  44% (1943/4352), 9.76 MiB | 32.00 KiB/sReceiving objects:  44% (1943/4352), 9.81 MiB | 22.00 KiB/sReceiving objects:  44% (1943/4352), 9.88 MiB | 20.00 KiB/sReceiving objects:  44% (1943/4352), 9.91 MiB | 19.00 KiB/sReceiving objects:  44% (1943/4352), 9.95 MiB | 21.00 KiB/sReceiving objects:  44% (1943/4352), 9.98 MiB | 18.00 KiB/sReceiving objects:  44% (1943/4352), 10.06 MiB | 20.00 KiB/sReceiving objects:  44% (1943/4352), 10.11 MiB | 22.00 KiB/sReceiving objects:  44% (1943/4352), 10.14 MiB | 21.00 KiB/sReceiving objects:  44% (1943/4352), 10.21 MiB | 26.00 KiB/sReceiving objects:  44% (1943/4352), 10.24 MiB | 21.00 KiB/sReceiving objects:  44% (1943/4352), 10.28 MiB | 21.00 KiB/sReceiving objects:  44% (1943/4352), 10.33 MiB | 22.00 KiB/sReceiving objects:  44% (1943/4352), 10.38 MiB | 23.00 KiB/sReceiving objects:  44% (1943/4352), 10.43 MiB | 25.00 KiB/sReceiving objects:  44% (1943/4352), 10.47 MiB | 25.00 KiB/sReceiving objects:  44% (1943/4352), 10.55 MiB | 28.00 KiB/sReceiving objects:  44% (1943/4352), 10.57 MiB | 26.00 KiB/sReceiving objects:  44% (1943/4352), 10.62 MiB | 23.00 KiB/sReceiving objects:  44% (1943/4352), 10.68 MiB | 24.00 KiB/sReceiving objects:  44% (1943/4352), 10.71 MiB | 20.00 KiB/sReceiving objects:  44% (1943/4352), 10.74 MiB | 21.00 KiB/sReceiving objects:  44% (1943/4352), 10.79 MiB | 21.00 KiB/sReceiving objects:  44% (1943/4352), 10.86 MiB | 26.00 KiB/sReceiving objects:  44% (1943/4352), 10.91 MiB | 28.00 KiB/sReceiving objects:  44% (1943/4352), 10.97 MiB | 31.00 KiB/sReceiving objects:  44% (1943/4352), 11.03 MiB | 30.00 KiB/sReceiving objects:  44% (1943/4352), 11.05 MiB | 21.00 KiB/sReceiving objects:  44% (1943/4352), 11.12 MiB | 20.00 KiB/sReceiving objects:  44% (1943/4352), 11.15 MiB | 17.00 KiB/sReceiving objects:  44% (1943/4352), 11.20 MiB | 24.00 KiB/sReceiving objects:  44% (1943/4352), 11.26 MiB | 24.00 KiB/sReceiving objects:  44% (1943/4352), 11.32 MiB | 23.00 KiB/sReceiving objects:  44% (1943/4352), 11.37 MiB | 26.00 KiB/sReceiving objects:  44% (1943/4352), 11.42 MiB | 20.00 KiB/sReceiving objects:  44% (1943/4352), 11.46 MiB | 27.00 KiB/sReceiving objects:  44% (1943/4352), 11.54 MiB | 29.00 KiB/sReceiving objects:  44% (1943/4352), 11.59 MiB | 30.00 KiB/sReceiving objects:  44% (1943/4352), 11.62 MiB | 27.00 KiB/sReceiving objects:  44% (1943/4352), 11.68 MiB | 24.00 KiB/sReceiving objects:  44% (1945/4352), 11.71 MiB | 23.00 KiB/sReceiving objects:  44% (1945/4352), 11.79 MiB | 26.00 KiB/sReceiving objects:  44% (1945/4352), 11.85 MiB | 29.00 KiB/sReceiving objects:  44% (1946/4352), 11.93 MiB | 35.00 KiB/sReceiving objects:  44% (1946/4352), 11.99 MiB | 35.00 KiB/sReceiving objects:  45% (1989/4352), 12.07 MiB | 36.00 KiB/sReceiving objects:  45% (1989/4352), 12.12 MiB | 29.00 KiB/sReceiving objects:  45% (1989/4352), 12.17 MiB | 31.00 KiB/sReceiving objects:  45% (1989/4352), 12.22 MiB | 21.00 KiB/sReceiving objects:  45% (1989/4352), 12.27 MiB | 21.00 KiB/sReceiving objects:  45% (1989/4352), 12.34 MiB | 23.00 KiB/sReceiving objects:  46% (2014/4352), 12.37 MiB | 25.00 KiB/sReceiving objects:  46% (2045/4352), 12.39 MiB | 27.00 KiB/sReceiving objects:  47% (2058/4352), 12.43 MiB | 27.00 KiB/sReceiving objects:  47% (2081/4352), 12.49 MiB | 25.00 KiB/sReceiving objects:  48% (2092/4352), 12.50 MiB | 22.00 KiB/sReceiving objects:  48% (2099/4352), 12.54 MiB | 22.00 KiB/sReceiving objects:  48% (2099/4352), 12.59 MiB | 21.00 KiB/sReceiving objects:  48% (2099/4352), 12.63 MiB | 19.00 KiB/sReceiving objects:  48% (2099/4352), 12.65 MiB | 18.00 KiB/sReceiving objects:  48% (2099/4352), 12.70 MiB | 18.00 KiB/sReceiving objects:  48% (2099/4352), 12.74 MiB | 17.00 KiB/sReceiving objects:  48% (2099/4352), 12.77 MiB | 19.00 KiB/sReceiving objects:  48% (2099/4352), 12.79 MiB | 17.00 KiB/sReceiving objects:  48% (2099/4352), 12.84 MiB | 17.00 KiB/sReceiving objects:  48% (2099/4352), 12.89 MiB | 18.00 KiB/sReceiving objects:  48% (2099/4352), 12.96 MiB | 24.00 KiB/sReceiving objects:  48% (2099/4352), 13.05 MiB | 31.00 KiB/sReceiving objects:  48% (2099/4352), 13.08 MiB | 33.00 KiB/sReceiving objects:  48% (2099/4352), 13.13 MiB | 28.00 KiB/sReceiving objects:  48% (2099/4352), 13.16 MiB | 18.00 KiB/sReceiving objects:  48% (2099/4352), 13.21 MiB | 19.00 KiB/sReceiving objects:  48% (2099/4352), 13.28 MiB | 25.00 KiB/sReceiving objects:  48% (2099/4352), 13.34 MiB | 27.00 KiB/sReceiving objects:  48% (2100/4352), 14.10 MiB | 160.00 KiB/s\r\n",
      "error: 4155 bytes of body are still expected\r\n",
      "fetch-pack: unexpected disconnect while reading sideband packet\r\n",
      "fatal: early EOF\r\n",
      "fatal: fetch-pack: invalid index-pack output\r\n"
     ]
    }
   ],
   "execution_count": 5
  },
  {
   "metadata": {
    "ExecuteTime": {
     "start_time": "2025-06-30T11:20:44.369159Z"
    }
   },
   "cell_type": "code",
   "source": [
    "! sudo apt install -y protobuf-compiler\n",
    "! cd models/research/\n",
    "! protoc object_detection/protos/*.proto --python_out=.\n",
    "! cp object_detection/packages/tf2/setup.py .\n",
    "! python3 -m pip install ."
   ],
   "id": "931f40493832ebd2",
   "outputs": [
    {
     "name": "stdout",
     "output_type": "stream",
     "text": [
      "Password:"
     ]
    }
   ],
   "execution_count": null
  },
  {
   "metadata": {},
   "cell_type": "code",
   "outputs": [],
   "execution_count": null,
   "source": "",
   "id": "411898c552c0a2ef"
  },
  {
   "metadata": {},
   "cell_type": "code",
   "source": "",
   "id": "490fb69609567f0c",
   "outputs": [],
   "execution_count": null
  }
 ],
 "metadata": {
  "kernelspec": {
   "display_name": "Python 3",
   "language": "python",
   "name": "python3"
  },
  "language_info": {
   "codemirror_mode": {
    "name": "ipython",
    "version": 2
   },
   "file_extension": ".py",
   "mimetype": "text/x-python",
   "name": "python",
   "nbconvert_exporter": "python",
   "pygments_lexer": "ipython2",
   "version": "2.7.6"
  }
 },
 "nbformat": 4,
 "nbformat_minor": 5
}
