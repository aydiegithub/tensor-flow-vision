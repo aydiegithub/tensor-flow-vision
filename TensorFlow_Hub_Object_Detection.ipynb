{
 "cells": [
  {
   "metadata": {},
   "cell_type": "markdown",
   "source": "# Opject Detenction",
   "id": "be3ed6f33fcc7447"
  },
  {
   "metadata": {
    "ExecuteTime": {
     "end_time": "2025-07-01T11:26:04.656322Z",
     "start_time": "2025-07-01T11:26:00.961595Z"
    }
   },
   "cell_type": "code",
   "source": [
    "import os\n",
    "import pathlib\n",
    "\n",
    "import matplotlib\n",
    "import matplotlib.pyplot as plt\n",
    "\n",
    "import io\n",
    "import scipy.misc\n",
    "import pandas as pd\n",
    "import numpy as np\n",
    "from six import BytesIO\n",
    "from PIL import Image, ImageDraw, ImageFont\n",
    "from six.moves.urllib.request import urlopen\n",
    "\n",
    "import tensorflow as tf\n",
    "import tensorflow_hub as hub\n",
    "\n",
    "tf.get_logger().setLevel('ERROR')"
   ],
   "id": "85e6f4dce0b252db",
   "outputs": [
    {
     "name": "stderr",
     "output_type": "stream",
     "text": [
      "/var/folders/xt/dsl_68w51jzftxq18_hpfkhm0000gn/T/ipykernel_94922/3420646353.py:8: DeprecationWarning: scipy.misc is deprecated and will be removed in 2.0.0\n",
      "  import scipy.misc\n"
     ]
    }
   ],
   "execution_count": 1
  },
  {
   "metadata": {},
   "cell_type": "markdown",
   "source": "## Utilities",
   "id": "29d08e8d17017895"
  },
  {
   "metadata": {
    "ExecuteTime": {
     "end_time": "2025-07-01T11:26:04.738583Z",
     "start_time": "2025-07-01T11:26:04.657590Z"
    }
   },
   "cell_type": "code",
   "source": [
    "models = pd.read_parquet('model_names.parquet', engine=\"pyarrow\")\n",
    "models = dict(zip(models.ModelName, models.URL))"
   ],
   "id": "8faa1b1b7d6ade5f",
   "outputs": [],
   "execution_count": 2
  },
  {
   "metadata": {
    "ExecuteTime": {
     "end_time": "2025-07-01T11:26:04.743350Z",
     "start_time": "2025-07-01T11:26:04.739349Z"
    }
   },
   "cell_type": "code",
   "source": [
    "IMAGES_FOR_TEST = {\n",
    "  'Beach' : 'models/research/object_detection/test_images/image2.jpg',\n",
    "  'Dogs' : 'models/research/object_detection/test_images/image1.jpg',\n",
    "  # By Heiko Gorski, Source: https://commons.wikimedia.org/wiki/File:Naxos_Taverna.jpg\n",
    "  'Naxos Taverna' : 'https://upload.wikimedia.org/wikipedia/commons/6/60/Naxos_Taverna.jpg',\n",
    "  # Source: https://commons.wikimedia.org/wiki/File:The_Coleoptera_of_the_British_islands_(Plate_125)_(8592917784).jpg\n",
    "  'Beatles' : 'https://upload.wikimedia.org/wikipedia/commons/1/1b/The_Coleoptera_of_the_British_islands_%28Plate_125%29_%288592917784%29.jpg',\n",
    "  # By Américo Toledano, Source: https://commons.wikimedia.org/wiki/File:Biblioteca_Maim%C3%B3nides,_Campus_Universitario_de_Rabanales_007.jpg\n",
    "  'Phones' : 'https://upload.wikimedia.org/wikipedia/commons/thumb/0/0d/Biblioteca_Maim%C3%B3nides%2C_Campus_Universitario_de_Rabanales_007.jpg/1024px-Biblioteca_Maim%C3%B3nides%2C_Campus_Universitario_de_Rabanales_007.jpg',\n",
    "  # Source: https://commons.wikimedia.org/wiki/File:The_smaller_British_birds_(8053836633).jpg\n",
    "  'Birds' : 'https://upload.wikimedia.org/wikipedia/commons/0/09/The_smaller_British_birds_%288053836633%29.jpg',\n",
    "}"
   ],
   "id": "4f114da2b8328e6f",
   "outputs": [],
   "execution_count": 3
  },
  {
   "metadata": {
    "ExecuteTime": {
     "end_time": "2025-07-01T11:26:04.750219Z",
     "start_time": "2025-07-01T11:26:04.746293Z"
    }
   },
   "cell_type": "code",
   "source": [
    "def load_images_into_numpy_array(path):\n",
    "    image = None\n",
    "    if(path.startswith('http')):\n",
    "        response = urlopen(path)\n",
    "        image_data = response.read()\n",
    "        image_data = BytesIO(image_data)\n",
    "        image = Image.open(image_data)\n",
    "    else:\n",
    "        image_data = tf.io.gfile.GFile(path, 'rb').read()\n",
    "        image = Image.open(BytesIO(image_data))\n",
    "\n",
    "    (im_width, im_height) = image.size\n",
    "    return (np.array(image.getdata())\n",
    "            .reshape(1, im_height, im_width, 3)).astype(np.uint8)\n",
    "    \n",
    "    COCO17_HUMAN_POSE_KEYPOINTS = [\n",
    "                                 (0, 1),\n",
    "                                 (0, 2),\n",
    "                                 (1, 3),\n",
    "                                 (2, 4),\n",
    "                                 (0, 5),\n",
    "                                 (0, 6),\n",
    "                                 (5, 7),\n",
    "                                 (7, 9),\n",
    "                                 (6, 8),\n",
    "                                 (8, 10),\n",
    "                                 (5, 6),\n",
    "                                 (5, 11),\n",
    "                                 (6, 12),\n",
    "                                 (11, 12),\n",
    "                                 (11, 13),\n",
    "                                 (13, 15),\n",
    "                                 (12, 14),\n",
    "                                 (14, 16)]\n"
   ],
   "id": "69ba75d1011ffd5a",
   "outputs": [],
   "execution_count": 4
  },
  {
   "metadata": {
    "ExecuteTime": {
     "end_time": "2025-07-01T11:41:06.548371Z",
     "start_time": "2025-07-01T11:41:06.544760Z"
    }
   },
   "cell_type": "code",
   "source": [
    "import sys\n",
    "sys.path.append('/tensorflow_models/research')"
   ],
   "id": "dd20fe2f3f09834e",
   "outputs": [],
   "execution_count": 13
  },
  {
   "metadata": {
    "ExecuteTime": {
     "end_time": "2025-07-01T11:41:08.248232Z",
     "start_time": "2025-07-01T11:41:08.215820Z"
    }
   },
   "cell_type": "code",
   "source": [
    "from object_detection.utils import label_map_util\n",
    "from object_detection.utils import visualization_utils as viz_utils\n",
    "from object_detection.utils import ops as utils_ops\n",
    "\n",
    "%matplotlib inline"
   ],
   "id": "411898c552c0a2ef",
   "outputs": [
    {
     "ename": "ImportError",
     "evalue": "cannot import name 'label_map_util' from 'object_detection.utils' (/Users/poppinadityagmail.com/miniconda3/envs/TF-Metal-GPU/lib/python3.10/site-packages/object_detection/utils/__init__.py)",
     "output_type": "error",
     "traceback": [
      "\u001B[0;31m---------------------------------------------------------------------------\u001B[0m",
      "\u001B[0;31mImportError\u001B[0m                               Traceback (most recent call last)",
      "Cell \u001B[0;32mIn[14], line 1\u001B[0m\n\u001B[0;32m----> 1\u001B[0m \u001B[38;5;28;01mfrom\u001B[39;00m\u001B[38;5;250m \u001B[39m\u001B[38;5;21;01mobject_detection\u001B[39;00m\u001B[38;5;21;01m.\u001B[39;00m\u001B[38;5;21;01mutils\u001B[39;00m\u001B[38;5;250m \u001B[39m\u001B[38;5;28;01mimport\u001B[39;00m label_map_util\n\u001B[1;32m      2\u001B[0m \u001B[38;5;28;01mfrom\u001B[39;00m\u001B[38;5;250m \u001B[39m\u001B[38;5;21;01mobject_detection\u001B[39;00m\u001B[38;5;21;01m.\u001B[39;00m\u001B[38;5;21;01mutils\u001B[39;00m\u001B[38;5;250m \u001B[39m\u001B[38;5;28;01mimport\u001B[39;00m visualization_utils \u001B[38;5;28;01mas\u001B[39;00m viz_utils\n\u001B[1;32m      3\u001B[0m \u001B[38;5;28;01mfrom\u001B[39;00m\u001B[38;5;250m \u001B[39m\u001B[38;5;21;01mobject_detection\u001B[39;00m\u001B[38;5;21;01m.\u001B[39;00m\u001B[38;5;21;01mutils\u001B[39;00m\u001B[38;5;250m \u001B[39m\u001B[38;5;28;01mimport\u001B[39;00m ops \u001B[38;5;28;01mas\u001B[39;00m utils_ops\n",
      "\u001B[0;31mImportError\u001B[0m: cannot import name 'label_map_util' from 'object_detection.utils' (/Users/poppinadityagmail.com/miniconda3/envs/TF-Metal-GPU/lib/python3.10/site-packages/object_detection/utils/__init__.py)"
     ]
    }
   ],
   "execution_count": 14
  },
  {
   "metadata": {
    "ExecuteTime": {
     "end_time": "2025-07-01T11:32:30.363163Z",
     "start_time": "2025-07-01T11:32:30.343725Z"
    }
   },
   "cell_type": "code",
   "source": "from object_detection.utils import label_map_util",
   "id": "8b173ec982ba216b",
   "outputs": [
    {
     "ename": "ImportError",
     "evalue": "cannot import name 'string_int_label_map_pb2' from 'object_detection.protos' (/Users/poppinadityagmail.com/miniconda3/envs/TF-Metal-GPU/lib/python3.10/site-packages/object_detection/protos/__init__.py)",
     "output_type": "error",
     "traceback": [
      "\u001B[0;31m---------------------------------------------------------------------------\u001B[0m",
      "\u001B[0;31mImportError\u001B[0m                               Traceback (most recent call last)",
      "Cell \u001B[0;32mIn[10], line 1\u001B[0m\n\u001B[0;32m----> 1\u001B[0m \u001B[38;5;28;01mfrom\u001B[39;00m\u001B[38;5;250m \u001B[39m\u001B[38;5;21;01mobject_detection\u001B[39;00m\u001B[38;5;21;01m.\u001B[39;00m\u001B[38;5;21;01mutils\u001B[39;00m\u001B[38;5;250m \u001B[39m\u001B[38;5;28;01mimport\u001B[39;00m label_map_util\n",
      "File \u001B[0;32m~/miniconda3/envs/TF-Metal-GPU/lib/python3.10/site-packages/object_detection/utils/label_map_util.py:21\u001B[0m\n\u001B[1;32m     19\u001B[0m \u001B[38;5;28;01mimport\u001B[39;00m\u001B[38;5;250m \u001B[39m\u001B[38;5;21;01mtensorflow\u001B[39;00m\u001B[38;5;250m \u001B[39m\u001B[38;5;28;01mas\u001B[39;00m\u001B[38;5;250m \u001B[39m\u001B[38;5;21;01mtf\u001B[39;00m\n\u001B[1;32m     20\u001B[0m \u001B[38;5;28;01mfrom\u001B[39;00m\u001B[38;5;250m \u001B[39m\u001B[38;5;21;01mgoogle\u001B[39;00m\u001B[38;5;21;01m.\u001B[39;00m\u001B[38;5;21;01mprotobuf\u001B[39;00m\u001B[38;5;250m \u001B[39m\u001B[38;5;28;01mimport\u001B[39;00m text_format\n\u001B[0;32m---> 21\u001B[0m \u001B[38;5;28;01mfrom\u001B[39;00m\u001B[38;5;250m \u001B[39m\u001B[38;5;21;01mobject_detection\u001B[39;00m\u001B[38;5;21;01m.\u001B[39;00m\u001B[38;5;21;01mprotos\u001B[39;00m\u001B[38;5;250m \u001B[39m\u001B[38;5;28;01mimport\u001B[39;00m string_int_label_map_pb2\n\u001B[1;32m     24\u001B[0m \u001B[38;5;28;01mdef\u001B[39;00m\u001B[38;5;250m \u001B[39m\u001B[38;5;21m_validate_label_map\u001B[39m(label_map):\n\u001B[1;32m     25\u001B[0m \u001B[38;5;250m  \u001B[39m\u001B[38;5;124;03m\"\"\"Checks if a label map is valid.\u001B[39;00m\n\u001B[1;32m     26\u001B[0m \n\u001B[1;32m     27\u001B[0m \u001B[38;5;124;03m  Args:\u001B[39;00m\n\u001B[0;32m   (...)\u001B[0m\n\u001B[1;32m     31\u001B[0m \u001B[38;5;124;03m    ValueError: if label map is invalid.\u001B[39;00m\n\u001B[1;32m     32\u001B[0m \u001B[38;5;124;03m  \"\"\"\u001B[39;00m\n",
      "\u001B[0;31mImportError\u001B[0m: cannot import name 'string_int_label_map_pb2' from 'object_detection.protos' (/Users/poppinadityagmail.com/miniconda3/envs/TF-Metal-GPU/lib/python3.10/site-packages/object_detection/protos/__init__.py)"
     ]
    }
   ],
   "execution_count": 10
  },
  {
   "metadata": {
    "ExecuteTime": {
     "end_time": "2025-07-01T11:32:31.098093Z",
     "start_time": "2025-07-01T11:32:31.095894Z"
    }
   },
   "cell_type": "code",
   "source": "",
   "id": "f8a6ae67e8600d3",
   "outputs": [],
   "execution_count": 10
  },
  {
   "metadata": {},
   "cell_type": "code",
   "outputs": [],
   "execution_count": null,
   "source": "",
   "id": "9e1dd637b1d8ff13"
  }
 ],
 "metadata": {
  "kernelspec": {
   "display_name": "Python 3",
   "language": "python",
   "name": "python3"
  },
  "language_info": {
   "codemirror_mode": {
    "name": "ipython",
    "version": 2
   },
   "file_extension": ".py",
   "mimetype": "text/x-python",
   "name": "python",
   "nbconvert_exporter": "python",
   "pygments_lexer": "ipython2",
   "version": "2.7.6"
  }
 },
 "nbformat": 4,
 "nbformat_minor": 5
}
